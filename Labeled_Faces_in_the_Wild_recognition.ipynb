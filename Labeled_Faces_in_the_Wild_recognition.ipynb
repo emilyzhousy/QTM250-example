{
  "nbformat": 4,
  "nbformat_minor": 0,
  "metadata": {
    "colab": {
      "name": "Labeled Faces in the Wild recognition",
      "provenance": [],
      "toc_visible": true
    }
  },
  "cells": [
    {
      "cell_type": "markdown",
      "metadata": {
        "id": "WDBa0KLzj93y"
      },
      "source": [
        "# Face Recognition on a subset of the Labeled Faces in the Wild dataset"
      ]
    },
    {
      "cell_type": "code",
      "metadata": {
        "id": "LVJLJQRpj938",
        "outputId": "5030a7aa-0304-4ec8-d4b3-8cbfe06d3cc7"
      },
      "source": [
        "%pylab inline\n",
        "\n",
        "import pylab as pl\n",
        "import numpy as np"
      ],
      "execution_count": null,
      "outputs": [
        {
          "output_type": "stream",
          "text": [
            "\n",
            "Welcome to pylab, a matplotlib-based Python environment [backend: module://IPython.kernel.zmq.pylab.backend_inline].\n",
            "For more information, type 'help(pylab)'.\n"
          ],
          "name": "stdout"
        }
      ]
    },
    {
      "cell_type": "markdown",
      "metadata": {
        "id": "JoU13t3Fj93-"
      },
      "source": [
        "## The LFW dataset\n",
        "\n",
        "Let's start with downloading the data using a scikit-learn utility function."
      ]
    },
    {
      "cell_type": "code",
      "metadata": {
        "id": "STVjpdLzj93_"
      },
      "source": [
        "from sklearn.datasets import fetch_lfw_people\n",
        "\n",
        "lfw_people = fetch_lfw_people(min_faces_per_person=70, resize=0.4)"
      ],
      "execution_count": null,
      "outputs": []
    },
    {
      "cell_type": "markdown",
      "metadata": {
        "id": "HZU7EJgGj93_"
      },
      "source": [
        "Let's introspect the images arrays to find the shapes (for plotting with matplotlib)"
      ]
    },
    {
      "cell_type": "code",
      "metadata": {
        "id": "B7hbyqHjj94A",
        "outputId": "b40b16d6-44b0-498f-9060-5d27eda232b2"
      },
      "source": [
        "X = lfw_people.data\n",
        "y = lfw_people.target\n",
        "names = lfw_people.target_names\n",
        "\n",
        "n_samples, n_features = X.shape\n",
        "_, h, w = lfw_people.images.shape\n",
        "n_classes = len(names)\n",
        "\n",
        "print(\"n_samples: {}\".format(n_samples))\n",
        "print(\"n_features: {}\".format(n_features))\n",
        "print(\"n_classes: {}\".format(n_classes))"
      ],
      "execution_count": null,
      "outputs": [
        {
          "output_type": "stream",
          "text": [
            "n_samples: 1288\n",
            "n_features: 1850\n",
            "n_classes: 7\n"
          ],
          "name": "stdout"
        }
      ]
    },
    {
      "cell_type": "code",
      "metadata": {
        "id": "kdlqEWrUj94B",
        "outputId": "37c8bad5-3c51-4945-dcdc-78d354b9f615"
      },
      "source": [
        "def plot_gallery(images, titles, h, w, n_row=3, n_col=6):\n",
        "    \"\"\"Helper function to plot a gallery of portraits\"\"\"\n",
        "    pl.figure(figsize=(1.7 * n_col, 2.3 * n_row))\n",
        "    pl.subplots_adjust(bottom=0, left=.01, right=.99, top=.90, hspace=.35)\n",
        "    for i in range(n_row * n_col):\n",
        "        pl.subplot(n_row, n_col, i + 1)\n",
        "        pl.imshow(images[i].reshape((h, w)), cmap=pl.cm.gray)\n",
        "        pl.title(titles[i], size=12)\n",
        "        pl.xticks(())\n",
        "        pl.yticks(())\n",
        "\n",
        "plot_gallery(X, names[y], h, w)"
      ],
      "execution_count": null,
      "outputs": [
        {
          "output_type": "display_data",
          "data": {},
          "metadata": {
            "tags": []
          }
        }
      ]
    },
    {
      "cell_type": "markdown",
      "metadata": {
        "id": "IAjsP12lj94B"
      },
      "source": [
        "Let's have a look at the repartition among target classes:"
      ]
    },
    {
      "cell_type": "code",
      "metadata": {
        "id": "jHrJPaItj94C",
        "outputId": "abe4e848-2a15-44e0-e642-a1fddec3d945"
      },
      "source": [
        "pl.figure(figsize=(14, 3))\n",
        "\n",
        "y_unique = np.unique(y)\n",
        "counts = [(y == i).sum() for i in y_unique]\n",
        "\n",
        "pl.xticks(y_unique,  names[y_unique])\n",
        "locs, labels = pl.xticks()\n",
        "pl.setp(labels, rotation=45, size=20)\n",
        "_ = pl.bar(y_unique, counts)"
      ],
      "execution_count": null,
      "outputs": [
        {
          "output_type": "display_data",
          "data": {},
          "metadata": {
            "tags": []
          }
        }
      ]
    },
    {
      "cell_type": "markdown",
      "metadata": {
        "id": "zdAOYojQj94C"
      },
      "source": [
        "## Splitting the dataset for model development and then evaluation\n",
        "\n",
        "Let's split the data in a development set and final evaluation set."
      ]
    },
    {
      "cell_type": "code",
      "metadata": {
        "id": "WxwzTHsfj94D"
      },
      "source": [
        "from sklearn.cross_validation import train_test_split\n",
        "\n",
        "X_train, X_test, y_train, y_test = train_test_split(X, y, test_size=0.25)"
      ],
      "execution_count": null,
      "outputs": []
    },
    {
      "cell_type": "markdown",
      "metadata": {
        "id": "NkoWXP0-j94D"
      },
      "source": [
        "## Unsupervised Feature Extraction with Randomized PCA"
      ]
    },
    {
      "cell_type": "markdown",
      "metadata": {
        "id": "EjtvVQOsj94D"
      },
      "source": [
        "To train a model we will first reduce the dimensionality of the original picture to a 150 PCA space: unsupervised feature extraction."
      ]
    },
    {
      "cell_type": "code",
      "metadata": {
        "id": "XInvdyk7j94D",
        "outputId": "7fe1a1c3-a407-4f41-da4b-6416581337e4"
      },
      "source": [
        "from sklearn.decomposition import RandomizedPCA\n",
        "\n",
        "n_components = 150\n",
        "\n",
        "print \"Extracting the top %d eigenfaces from %d faces\" % (\n",
        "    n_components, X_train.shape[0])\n",
        "\n",
        "pca = RandomizedPCA(n_components=n_components, whiten=True)\n",
        "\n",
        "%time pca.fit(X_train)\n",
        "\n",
        "eigenfaces = pca.components_.reshape((n_components, h, w))"
      ],
      "execution_count": null,
      "outputs": [
        {
          "output_type": "stream",
          "text": [
            "Extracting the top 150 eigenfaces from 966 faces\n",
            "CPU times: user 559 ms, sys: 69.4 ms, total: 629 ms"
          ],
          "name": "stdout"
        },
        {
          "output_type": "stream",
          "text": [
            "\n",
            "Wall time: 449 ms\n"
          ],
          "name": "stdout"
        }
      ]
    },
    {
      "cell_type": "markdown",
      "metadata": {
        "id": "gQwMHkqlj94E"
      },
      "source": [
        "Let's plot the gallery of the most significant eigenfaces:"
      ]
    },
    {
      "cell_type": "code",
      "metadata": {
        "id": "Z8383qeyj94E",
        "outputId": "83bf0fa8-7414-4808-c8f3-f5f4079832fb"
      },
      "source": [
        "eigenface_titles = [\"eigenface %d\" % i for i in range(eigenfaces.shape[0])]\n",
        "plot_gallery(eigenfaces, eigenface_titles, h, w)"
      ],
      "execution_count": null,
      "outputs": [
        {
          "output_type": "display_data",
          "data": {},
          "metadata": {
            "tags": []
          }
        }
      ]
    },
    {
      "cell_type": "markdown",
      "metadata": {
        "id": "5QmHyhJEj94E"
      },
      "source": [
        "Projecting the input data on the eigenfaces orthonormal basis:"
      ]
    },
    {
      "cell_type": "code",
      "metadata": {
        "id": "PyFKrmdGj94F"
      },
      "source": [
        "X_train_pca = pca.transform(X_train)"
      ],
      "execution_count": null,
      "outputs": []
    },
    {
      "cell_type": "markdown",
      "metadata": {
        "id": "6zLA2pPpj94F"
      },
      "source": [
        "## Training a Gaussian Kernel Support Vector Machine\n",
        "\n",
        "Let's now train a Kernel Support Vector Machine on the projected data. We perform an automated parameter search to find good values for Gamma and C:"
      ]
    },
    {
      "cell_type": "code",
      "metadata": {
        "id": "b4WwXWxEj94F",
        "outputId": "5998902b-ab9e-48fd-dd73-11809984bf22"
      },
      "source": [
        "from sklearn.svm import SVC\n",
        "\n",
        "svm = SVC(kernel='rbf', class_weight='auto')\n",
        "\n",
        "svm"
      ],
      "execution_count": null,
      "outputs": [
        {
          "output_type": "execute_result",
          "data": {},
          "metadata": {
            "tags": []
          },
          "execution_count": 10
        }
      ]
    },
    {
      "cell_type": "markdown",
      "metadata": {
        "id": "YJdOBYUvj94F"
      },
      "source": [
        "Unfortunately an SVM is very sensitive to the parameters C and gamma and it's very unlikely that the default parameters will yield a good predictive accurracy:"
      ]
    },
    {
      "cell_type": "code",
      "metadata": {
        "id": "IZlqs42vj94G",
        "outputId": "0a50cedb-51b7-4ca4-8654-f356030d1877"
      },
      "source": [
        "from sklearn.cross_validation import StratifiedShuffleSplit\n",
        "from sklearn.cross_validation import cross_val_score\n",
        "\n",
        "cv = StratifiedShuffleSplit(y_train, test_size=0.20, n_iter=3)\n",
        "\n",
        "%time svm_cv_scores = cross_val_score(svm, X_train_pca, y_train, scoring='f1', n_jobs=2)\n",
        "svm_cv_scores"
      ],
      "execution_count": null,
      "outputs": [
        {
          "output_type": "stream",
          "text": [
            "CPU times: user 15.6 ms, sys: 21.8 ms, total: 37.4 ms\n",
            "Wall time: 531 ms\n"
          ],
          "name": "stdout"
        },
        {
          "output_type": "execute_result",
          "data": {},
          "metadata": {
            "tags": []
          },
          "execution_count": 11
        }
      ]
    },
    {
      "cell_type": "code",
      "metadata": {
        "id": "hQgfs8waj94G",
        "outputId": "8ed20d18-0a38-4adc-e462-89541ed1608f"
      },
      "source": [
        "svm_cv_scores.mean(), svm_cv_scores.std()"
      ],
      "execution_count": null,
      "outputs": [
        {
          "output_type": "execute_result",
          "data": {},
          "metadata": {
            "tags": []
          },
          "execution_count": 12
        }
      ]
    },
    {
      "cell_type": "markdown",
      "metadata": {
        "id": "M2BxTl_nj94G"
      },
      "source": [
        "## Data-driven hyper-parameters tuning using a Cross-Validated Grid Search\n",
        "\n",
        "Fortunately we can automate the search for the best combination of parameters:"
      ]
    },
    {
      "cell_type": "code",
      "metadata": {
        "id": "SMzepzufj94H"
      },
      "source": [
        "from sklearn.grid_search import GridSearchCV\n",
        "\n",
        "param_grid = {\n",
        "    'C': [1e3, 5e3, 1e4, 5e4, 1e5],\n",
        "    'gamma': [0.0001, 0.0005, 0.001, 0.005, 0.01, 0.1],\n",
        "}\n",
        "\n",
        "clf = GridSearchCV(svm, param_grid, scoring='f1', cv=cv, n_jobs=2)"
      ],
      "execution_count": null,
      "outputs": []
    },
    {
      "cell_type": "code",
      "metadata": {
        "id": "MKrsXRFLj94H",
        "outputId": "9bdccf5a-7867-4594-e3a5-9182f4a7a0d0"
      },
      "source": [
        "%time clf = clf.fit(X_train_pca, y_train)\n",
        "\n",
        "print(\"Best estimator found by randomized hyper parameter search:\")\n",
        "print(clf.best_params_)\n",
        "print(\"Best parameters validation score: {:.3f}\".format(clf.best_score_))"
      ],
      "execution_count": null,
      "outputs": [
        {
          "output_type": "stream",
          "text": [
            "CPU times: user 560 ms, sys: 187 ms, total: 747 ms\n",
            "Wall time: 12.3 s\n",
            "Best estimator found by randomized hyper parameter search:\n",
            "{'C': 5000.0, 'gamma': 0.001}\n",
            "Best parameters validation score: 0.809\n"
          ],
          "name": "stdout"
        }
      ]
    },
    {
      "cell_type": "markdown",
      "metadata": {
        "id": "33ONQtg5j94H"
      },
      "source": [
        "## Final evaluation of the best model on the held-out test set\n",
        "\n",
        "Let's start with a qualitative inspection of the some of the predictions:"
      ]
    },
    {
      "cell_type": "code",
      "metadata": {
        "id": "6AsCm9PGj94H"
      },
      "source": [
        "X_test_pca = pca.transform(X_test)\n",
        "y_pred = clf.predict(X_test_pca)"
      ],
      "execution_count": null,
      "outputs": []
    },
    {
      "cell_type": "code",
      "metadata": {
        "id": "qNFqEec2j94I",
        "outputId": "bf198239-ef21-45a7-c9ab-e40159521422"
      },
      "source": [
        "def title(y_pred, y_test, target_names, i):\n",
        "    pred_name = target_names[y_pred[i]].rsplit(' ', 1)[-1]\n",
        "    true_name = target_names[y_test[i]].rsplit(' ', 1)[-1]\n",
        "    return 'predicted: %s\\ntrue:      %s' % (pred_name, true_name)\n",
        "\n",
        "prediction_titles = [title(y_pred, y_test, names, i)\n",
        "                     for i in range(y_pred.shape[0])]\n",
        "\n",
        "plot_gallery(X_test, prediction_titles, h, w)"
      ],
      "execution_count": null,
      "outputs": [
        {
          "output_type": "display_data",
          "data": {},
          "metadata": {
            "tags": []
          }
        }
      ]
    },
    {
      "cell_type": "code",
      "metadata": {
        "id": "BkI0iBXhj94I",
        "outputId": "777f6bd1-576a-4a78-92a1-9065dde53b54"
      },
      "source": [
        "from sklearn.metrics import classification_report\n",
        "\n",
        "print(classification_report(y_test, y_pred, target_names=names))"
      ],
      "execution_count": null,
      "outputs": [
        {
          "output_type": "stream",
          "text": [
            "                   precision    recall  f1-score   support\n",
            "\n",
            "     Ariel Sharon       0.81      0.76      0.79        17\n",
            "     Colin Powell       0.89      0.84      0.86        61\n",
            "  Donald Rumsfeld       0.85      0.74      0.79        31\n",
            "    George W Bush       0.90      0.96      0.93       134\n",
            "Gerhard Schroeder       0.76      0.84      0.80        19\n",
            "      Hugo Chavez       0.89      0.89      0.89        19\n",
            "       Tony Blair       0.84      0.78      0.81        41\n",
            "\n",
            "      avg / total       0.87      0.87      0.87       322\n",
            "\n"
          ],
          "name": "stdout"
        }
      ]
    },
    {
      "cell_type": "code",
      "metadata": {
        "id": "Pp40q2zwj94I",
        "outputId": "c25a7599-5c3c-48ce-fcb6-3742ac828686"
      },
      "source": [
        "from sklearn.metrics import confusion_matrix\n",
        "\n",
        "cm = confusion_matrix(y_test, y_pred, labels=range(n_classes))\n",
        "print(cm)"
      ],
      "execution_count": null,
      "outputs": [
        {
          "output_type": "stream",
          "text": [
            "[[ 13   2   1   1   0   0   0]\n",
            " [  2  51   0   4   1   0   3]\n",
            " [  0   1  23   5   1   1   0]\n",
            " [  1   1   2 129   0   0   1]\n",
            " [  0   0   1   0  16   1   1]\n",
            " [  0   0   0   0   1  17   1]\n",
            " [  0   2   0   5   2   0  32]]\n"
          ],
          "name": "stdout"
        }
      ]
    },
    {
      "cell_type": "code",
      "metadata": {
        "id": "CUNdawNAj94J",
        "outputId": "7437452f-c88c-4d1e-8458-b6733739c68e"
      },
      "source": [
        "pl.gray()\n",
        "_ = pl.imshow(cm, interpolation='nearest')"
      ],
      "execution_count": null,
      "outputs": [
        {
          "output_type": "display_data",
          "data": {},
          "metadata": {
            "tags": []
          }
        }
      ]
    },
    {
      "cell_type": "code",
      "metadata": {
        "id": "D9nVv_wPj94J"
      },
      "source": [
        ""
      ],
      "execution_count": null,
      "outputs": []
    }
  ]
}